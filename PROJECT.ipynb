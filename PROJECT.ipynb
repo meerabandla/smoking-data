{
 "cells": [
  {
   "cell_type": "code",
   "execution_count": 3,
   "metadata": {},
   "outputs": [
    {
     "name": "stdout",
     "output_type": "stream",
     "text": [
      "   age   sex current_smoker  heart_rate blood_pressure  cigs_per_day   chol  \\\n",
      "0   54  male            yes          95         110/72           9.0  219.0   \n",
      "1   45  male            yes          64         121/72           9.0  248.0   \n",
      "2   58  male            yes          81       127.5/76           9.0  235.0   \n",
      "3   42  male            yes          90       122.5/80           9.0  225.0   \n",
      "4   42  male            yes          62         119/80           9.0  226.0   \n",
      "\n",
      "   blood_pressure_stage  \n",
      "0                Normal  \n",
      "1              Elevated  \n",
      "2              Elevated  \n",
      "3  Hypertension Stage 1  \n",
      "4  Hypertension Stage 1  \n",
      "               age   heart_rate  cigs_per_day         chol\n",
      "count  3900.000000  3900.000000   3900.000000  3900.000000\n",
      "mean     49.537949    75.688974      9.167949   236.596667\n",
      "std       8.559275    12.015376     12.016371    44.335516\n",
      "min      32.000000    44.000000      0.000000   113.000000\n",
      "25%      42.000000    68.000000      0.000000   206.000000\n",
      "50%      49.000000    75.000000      0.000000   234.000000\n",
      "75%      56.000000    82.000000     20.000000   263.000000\n",
      "max      70.000000   143.000000     70.000000   696.000000\n",
      "<class 'pandas.core.frame.DataFrame'>\n",
      "RangeIndex: 3900 entries, 0 to 3899\n",
      "Data columns (total 8 columns):\n",
      " #   Column                Non-Null Count  Dtype  \n",
      "---  ------                --------------  -----  \n",
      " 0   age                   3900 non-null   int64  \n",
      " 1   sex                   3900 non-null   object \n",
      " 2   current_smoker        3900 non-null   object \n",
      " 3   heart_rate            3900 non-null   int64  \n",
      " 4   blood_pressure        3900 non-null   object \n",
      " 5   cigs_per_day          3900 non-null   float64\n",
      " 6   chol                  3900 non-null   float64\n",
      " 7   blood_pressure_stage  3900 non-null   object \n",
      "dtypes: float64(2), int64(2), object(4)\n",
      "memory usage: 243.9+ KB\n",
      "None\n",
      "age                     0\n",
      "sex                     0\n",
      "current_smoker          0\n",
      "heart_rate              0\n",
      "blood_pressure          0\n",
      "cigs_per_day            0\n",
      "chol                    0\n",
      "blood_pressure_stage    0\n",
      "dtype: int64\n"
     ]
    }
   ],
   "source": [
    "import pandas as pd\n",
    "import numpy as np\n",
    "df = pd.read_csv('smoking_health_data_final.csv')\n",
    "# Display the first few rows\n",
    "print(df.head())\n",
    "\n",
    "# Get summary statistics\n",
    "print(df.describe())\n",
    "\n",
    "# Display info about the DataFrame (e.g., data types, non-null counts)\n",
    "print(df.info())\n",
    "# Check for missing values\n",
    "print(df.isnull().sum())"
   ]
  },
  {
   "cell_type": "code",
   "execution_count": 5,
   "metadata": {},
   "outputs": [],
   "source": [
    "data_clean = df.copy()\n"
   ]
  },
  {
   "cell_type": "code",
   "execution_count": null,
   "metadata": {},
   "outputs": [],
   "source": []
  },
  {
   "cell_type": "code",
   "execution_count": null,
   "metadata": {},
   "outputs": [],
   "source": []
  },
  {
   "cell_type": "code",
   "execution_count": 3,
   "metadata": {},
   "outputs": [
    {
     "name": "stdout",
     "output_type": "stream",
     "text": [
      "      age   sex current_smoker  heart_rate blood_pressure  cigs_per_day   chol\n",
      "0      54  male            yes          95         110/72           NaN  219.0\n",
      "1      45  male            yes          64         121/72           NaN  248.0\n",
      "2      58  male            yes          81       127.5/76           NaN  235.0\n",
      "3      42  male            yes          90       122.5/80           NaN  225.0\n",
      "4      42  male            yes          62         119/80           NaN  226.0\n",
      "...   ...   ...            ...         ...            ...           ...    ...\n",
      "3895   37  male            yes          88     122.5/82.5          60.0  254.0\n",
      "3896   49  male            yes          70         123/75          60.0  213.0\n",
      "3897   56  male            yes          70         125/79          60.0  246.0\n",
      "3898   50  male            yes          85         134/95          60.0  340.0\n",
      "3899   40  male            yes          98         132/86          70.0  210.0\n",
      "\n",
      "[3900 rows x 7 columns]\n"
     ]
    }
   ],
   "source": [
    "df.head()\n",
    "print(df)"
   ]
  },
  {
   "cell_type": "code",
   "execution_count": null,
   "metadata": {},
   "outputs": [],
   "source": []
  },
  {
   "cell_type": "code",
   "execution_count": null,
   "metadata": {},
   "outputs": [],
   "source": [
    "# Create a DataFrame with an age column starting from 30\n",
    "df = pd.DataFrame({'age': range(30, 70)})  # Change 41 to any upper limit you need\n",
    "\n",
    "print(df)"
   ]
  },
  {
   "cell_type": "code",
   "execution_count": 5,
   "metadata": {},
   "outputs": [
    {
     "name": "stdout",
     "output_type": "stream",
     "text": [
      "   age   sex current_smoker  heart_rate blood_pressure  cigs_per_day   chol\n",
      "0   54  male            yes          95         110/72           NaN  219.0\n",
      "1   45  male            yes          64         121/72           NaN  248.0\n",
      "2   58  male            yes          81       127.5/76           NaN  235.0\n",
      "3   42  male            yes          90       122.5/80           NaN  225.0\n",
      "4   42  male            yes          62         119/80           NaN  226.0\n"
     ]
    }
   ],
   "source": [
    "print(df.head())\n"
   ]
  },
  {
   "cell_type": "code",
   "execution_count": 9,
   "metadata": {},
   "outputs": [
    {
     "name": "stdout",
     "output_type": "stream",
     "text": [
      "               age   heart_rate  cigs_per_day         chol\n",
      "count  3900.000000  3900.000000   3886.000000  3893.000000\n",
      "mean     49.537949    75.688974      9.168554   236.595941\n",
      "std       8.559275    12.015376     12.037999    44.375365\n",
      "min      32.000000    44.000000      0.000000   113.000000\n",
      "25%      42.000000    68.000000      0.000000   206.000000\n",
      "50%      49.000000    75.000000      0.000000   234.000000\n",
      "75%      56.000000    82.000000     20.000000   263.000000\n",
      "max      70.000000   143.000000     70.000000   696.000000\n"
     ]
    }
   ],
   "source": [
    "print(df.describe())"
   ]
  },
  {
   "cell_type": "code",
   "execution_count": 10,
   "metadata": {},
   "outputs": [
    {
     "name": "stdout",
     "output_type": "stream",
     "text": [
      "<class 'pandas.core.frame.DataFrame'>\n",
      "RangeIndex: 3900 entries, 0 to 3899\n",
      "Data columns (total 7 columns):\n",
      " #   Column          Non-Null Count  Dtype  \n",
      "---  ------          --------------  -----  \n",
      " 0   age             3900 non-null   int64  \n",
      " 1   sex             3900 non-null   object \n",
      " 2   current_smoker  3900 non-null   object \n",
      " 3   heart_rate      3900 non-null   int64  \n",
      " 4   blood_pressure  3900 non-null   object \n",
      " 5   cigs_per_day    3886 non-null   float64\n",
      " 6   chol            3893 non-null   float64\n",
      "dtypes: float64(2), int64(2), object(3)\n",
      "memory usage: 213.4+ KB\n",
      "None\n"
     ]
    }
   ],
   "source": [
    "print(df.info())"
   ]
  },
  {
   "cell_type": "code",
   "execution_count": 11,
   "metadata": {},
   "outputs": [
    {
     "name": "stdout",
     "output_type": "stream",
     "text": [
      "   age   sex current_smoker  heart_rate blood_pressure  cigs_per_day   chol\n",
      "0   54  male            yes          95         110/72           NaN  219.0\n",
      "1   45  male            yes          64         121/72           NaN  248.0\n",
      "2   58  male            yes          81       127.5/76           NaN  235.0\n",
      "3   42  male            yes          90       122.5/80           NaN  225.0\n",
      "4   42  male            yes          62         119/80           NaN  226.0\n"
     ]
    }
   ],
   "source": [
    "print(df.head())"
   ]
  },
  {
   "cell_type": "code",
   "execution_count": 12,
   "metadata": {},
   "outputs": [
    {
     "name": "stdout",
     "output_type": "stream",
     "text": [
      "age                0\n",
      "sex                0\n",
      "current_smoker     0\n",
      "heart_rate         0\n",
      "blood_pressure     0\n",
      "cigs_per_day      14\n",
      "chol               7\n",
      "dtype: int64\n"
     ]
    }
   ],
   "source": [
    "\n",
    "print(df.isnull().sum())"
   ]
  },
  {
   "cell_type": "code",
   "execution_count": 14,
   "metadata": {},
   "outputs": [
    {
     "name": "stdout",
     "output_type": "stream",
     "text": [
      "0       54\n",
      "1       45\n",
      "2       58\n",
      "3       42\n",
      "4       42\n",
      "        ..\n",
      "3895    37\n",
      "3896    49\n",
      "3897    56\n",
      "3898    50\n",
      "3899    40\n",
      "Name: age, Length: 3900, dtype: int64\n"
     ]
    }
   ],
   "source": [
    "print(df.age)"
   ]
  },
  {
   "cell_type": "code",
   "execution_count": 15,
   "metadata": {},
   "outputs": [
    {
     "name": "stdout",
     "output_type": "stream",
     "text": [
      "Number of rows: 3900\n",
      "Number of columns: 7\n"
     ]
    }
   ],
   "source": [
    "num_rows, num_cols = df.shape\n",
    "print(f'Number of rows: {num_rows}')\n",
    "print(f'Number of columns: {num_cols}')"
   ]
  },
  {
   "cell_type": "code",
   "execution_count": 22,
   "metadata": {},
   "outputs": [
    {
     "name": "stdout",
     "output_type": "stream",
     "text": [
      "Starting age: 32\n",
      "Ending age: 70\n"
     ]
    }
   ],
   "source": [
    "# Get the range of the 'Age' column\n",
    "min_age = df['age'].min()\n",
    "max_age = df['age'].max()\n",
    "print(f'Starting age: {min_age}')\n",
    "print(f'Ending age: {max_age}')"
   ]
  },
  {
   "cell_type": "code",
   "execution_count": 23,
   "metadata": {},
   "outputs": [
    {
     "name": "stdout",
     "output_type": "stream",
     "text": [
      "0        NaN\n",
      "1        NaN\n",
      "2        NaN\n",
      "3        NaN\n",
      "4        NaN\n",
      "        ... \n",
      "3895    60.0\n",
      "3896    60.0\n",
      "3897    60.0\n",
      "3898    60.0\n",
      "3899    70.0\n",
      "Name: cigs_per_day, Length: 3900, dtype: float64\n"
     ]
    }
   ],
   "source": [
    "print(df.cigs_per_day )"
   ]
  },
  {
   "cell_type": "code",
   "execution_count": 24,
   "metadata": {},
   "outputs": [
    {
     "name": "stdout",
     "output_type": "stream",
     "text": [
      "0       219.0\n",
      "1       248.0\n",
      "2       235.0\n",
      "3       225.0\n",
      "4       226.0\n",
      "        ...  \n",
      "3895    254.0\n",
      "3896    213.0\n",
      "3897    246.0\n",
      "3898    340.0\n",
      "3899    210.0\n",
      "Name: chol, Length: 3900, dtype: float64\n"
     ]
    }
   ],
   "source": [
    "print(df.chol)"
   ]
  },
  {
   "cell_type": "code",
   "execution_count": null,
   "metadata": {},
   "outputs": [],
   "source": []
  },
  {
   "cell_type": "code",
   "execution_count": 44,
   "metadata": {},
   "outputs": [
    {
     "name": "stdout",
     "output_type": "stream",
     "text": [
      "0       219.0\n",
      "1       248.0\n",
      "2       235.0\n",
      "3       225.0\n",
      "4       226.0\n",
      "        ...  \n",
      "3895    254.0\n",
      "3896    213.0\n",
      "3897    246.0\n",
      "3898    340.0\n",
      "3899    210.0\n",
      "Name: chol, Length: 3893, dtype: float64\n"
     ]
    }
   ],
   "source": [
    "print(df.chol)"
   ]
  },
  {
   "cell_type": "code",
   "execution_count": 4,
   "metadata": {},
   "outputs": [
    {
     "name": "stdout",
     "output_type": "stream",
     "text": [
      "   age   sex current_smoker  heart_rate blood_pressure  cigs_per_day  chol  \\\n",
      "0   54  male            yes          95         110/72           9.0   219   \n",
      "1   45  male            yes          64         121/72           9.0   248   \n",
      "2   58  male            yes          81       127.5/76           9.0   235   \n",
      "3   42  male            yes          90       122.5/80           9.0   225   \n",
      "4   42  male            yes          62         119/80           9.0   226   \n",
      "\n",
      "   blood_pressure_stage  \n",
      "0                Normal  \n",
      "1              Elevated  \n",
      "2              Elevated  \n",
      "3  Hypertension Stage 1  \n",
      "4  Hypertension Stage 1  \n",
      "age                       int64\n",
      "sex                      object\n",
      "current_smoker           object\n",
      "heart_rate                int64\n",
      "blood_pressure           object\n",
      "cigs_per_day            float64\n",
      "chol                      int32\n",
      "blood_pressure_stage     object\n",
      "dtype: object\n"
     ]
    }
   ],
   "source": [
    "df['chol'] = df['chol'].round().astype(int)\n",
    "\n",
    "# Display the modified DataFrame and its data types\n",
    "\n",
    "print(df.head())\n",
    "print(df.dtypes)"
   ]
  },
  {
   "cell_type": "code",
   "execution_count": 5,
   "metadata": {},
   "outputs": [
    {
     "name": "stdout",
     "output_type": "stream",
     "text": [
      "Empty DataFrame\n",
      "Columns: [age, sex, current_smoker, heart_rate, blood_pressure, cigs_per_day, chol, blood_pressure_stage]\n",
      "Index: []\n"
     ]
    }
   ],
   "source": [
    "non_numeric_values = df['chol'].apply(lambda x: not isinstance(x, (int, float)))\n",
    "print(df[non_numeric_values])"
   ]
  },
  {
   "cell_type": "code",
   "execution_count": null,
   "metadata": {},
   "outputs": [],
   "source": [
    "df['chol'] = df['chol'].round().astype(int)"
   ]
  },
  {
   "cell_type": "code",
   "execution_count": 6,
   "metadata": {},
   "outputs": [
    {
     "name": "stdout",
     "output_type": "stream",
     "text": [
      "Empty DataFrame\n",
      "Columns: [age, sex, current_smoker, heart_rate, blood_pressure, cigs_per_day, chol, blood_pressure_stage]\n",
      "Index: []\n"
     ]
    }
   ],
   "source": [
    "non_numeric_values = df['chol'].apply(lambda x: not isinstance(x, (int, float)))\n",
    "print(df[non_numeric_values])"
   ]
  },
  {
   "cell_type": "code",
   "execution_count": 10,
   "metadata": {},
   "outputs": [],
   "source": [
    "import pandas as pd\n",
    "import numpy as np\n",
    "df = pd.read_csv('smoking_health_data_final.csv')\n",
    "data_clean = df.copy()"
   ]
  },
  {
   "cell_type": "code",
   "execution_count": null,
   "metadata": {},
   "outputs": [],
   "source": []
  },
  {
   "cell_type": "code",
   "execution_count": 11,
   "metadata": {},
   "outputs": [
    {
     "name": "stdout",
     "output_type": "stream",
     "text": [
      "   age   sex current_smoker  heart_rate blood_pressure  cigs_per_day   chol  \\\n",
      "0   54  male            yes          95         110/72           9.0  219.0   \n",
      "1   45  male            yes          64         121/72           9.0  248.0   \n",
      "2   58  male            yes          81       127.5/76           9.0  235.0   \n",
      "3   42  male            yes          90       122.5/80           9.0  225.0   \n",
      "4   42  male            yes          62         119/80           9.0  226.0   \n",
      "\n",
      "   blood_pressure_stage  \n",
      "0                Normal  \n",
      "1              Elevated  \n",
      "2              Elevated  \n",
      "3  Hypertension Stage 1  \n",
      "4  Hypertension Stage 1  \n"
     ]
    }
   ],
   "source": [
    "print(df.head())"
   ]
  },
  {
   "cell_type": "code",
   "execution_count": null,
   "metadata": {},
   "outputs": [],
   "source": [
    "non_numeric_values = df['chol'].apply(lambda x: not isinstance(x, (int, float)))\n",
    "print(df[non_numeric_values])"
   ]
  },
  {
   "cell_type": "code",
   "execution_count": 41,
   "metadata": {},
   "outputs": [
    {
     "name": "stdout",
     "output_type": "stream",
     "text": [
      "0       219.0\n",
      "1       248.0\n",
      "2       235.0\n",
      "3       225.0\n",
      "4       226.0\n",
      "        ...  \n",
      "3895    254.0\n",
      "3896    213.0\n",
      "3897    246.0\n",
      "3898    340.0\n",
      "3899    210.0\n",
      "Name: chol, Length: 3900, dtype: float64\n"
     ]
    }
   ],
   "source": [
    "print(df.chol)"
   ]
  },
  {
   "cell_type": "code",
   "execution_count": null,
   "metadata": {},
   "outputs": [],
   "source": [
    "non_numeric_values = df['chol'].apply(lambda x: not isinstance(x, (int, float)))\n",
    "print(df[non_numeric_values])"
   ]
  },
  {
   "cell_type": "code",
   "execution_count": null,
   "metadata": {},
   "outputs": [],
   "source": [
    "df = df.dropnan(subset=['chol'])\n",
    "non_numeric_values = df['chol'].apply(lambda x: not isinstance(x, (int, float)))\n",
    "print(df[non_numeric_values])"
   ]
  },
  {
   "cell_type": "code",
   "execution_count": 47,
   "metadata": {},
   "outputs": [],
   "source": [
    "df['chol'] = df['chol'].round().astype(int)"
   ]
  },
  {
   "cell_type": "code",
   "execution_count": 48,
   "metadata": {},
   "outputs": [
    {
     "name": "stdout",
     "output_type": "stream",
     "text": [
      "0       219\n",
      "1       248\n",
      "2       235\n",
      "3       225\n",
      "4       226\n",
      "       ... \n",
      "3895    254\n",
      "3896    213\n",
      "3897    246\n",
      "3898    340\n",
      "3899    210\n",
      "Name: chol, Length: 3893, dtype: int32\n"
     ]
    }
   ],
   "source": [
    "print(df.chol)"
   ]
  },
  {
   "cell_type": "code",
   "execution_count": 13,
   "metadata": {},
   "outputs": [
    {
     "name": "stdout",
     "output_type": "stream",
     "text": [
      "               age   heart_rate  cigs_per_day         chol\n",
      "count  3900.000000  3900.000000   3900.000000  3900.000000\n",
      "mean     49.537949    75.688974      9.167949   236.596667\n",
      "std       8.559275    12.015376     12.016371    44.335516\n",
      "min      32.000000    44.000000      0.000000   113.000000\n",
      "25%      42.000000    68.000000      0.000000   206.000000\n",
      "50%      49.000000    75.000000      0.000000   234.000000\n",
      "75%      56.000000    82.000000     20.000000   263.000000\n",
      "max      70.000000   143.000000     70.000000   696.000000\n"
     ]
    }
   ],
   "source": [
    "print(df.describe())"
   ]
  },
  {
   "cell_type": "code",
   "execution_count": null,
   "metadata": {},
   "outputs": [],
   "source": [
    "rows_with_null = df[df.isnull().any(axis=1)]\n",
    "print(rows_with_null)"
   ]
  },
  {
   "cell_type": "code",
   "execution_count": null,
   "metadata": {},
   "outputs": [],
   "source": [
    "df.fillna(0, inplace=True)\n",
    "rows_with_null = df[df.isnull().any(axis=1)]\n",
    "print(rows_with_null)"
   ]
  },
  {
   "cell_type": "code",
   "execution_count": 58,
   "metadata": {},
   "outputs": [
    {
     "name": "stdout",
     "output_type": "stream",
     "text": [
      "        age    sex  current_smoker  heart_rate  blood_pressure  cigs_per_day  \\\n",
      "0     False  False           False       False           False         False   \n",
      "1     False  False           False       False           False         False   \n",
      "2     False  False           False       False           False         False   \n",
      "3     False  False           False       False           False         False   \n",
      "4     False  False           False       False           False         False   \n",
      "...     ...    ...             ...         ...             ...           ...   \n",
      "3895  False  False           False       False           False         False   \n",
      "3896  False  False           False       False           False         False   \n",
      "3897  False  False           False       False           False         False   \n",
      "3898  False  False           False       False           False         False   \n",
      "3899  False  False           False       False           False         False   \n",
      "\n",
      "       chol  \n",
      "0     False  \n",
      "1     False  \n",
      "2     False  \n",
      "3     False  \n",
      "4     False  \n",
      "...     ...  \n",
      "3895  False  \n",
      "3896  False  \n",
      "3897  False  \n",
      "3898  False  \n",
      "3899  False  \n",
      "\n",
      "[3893 rows x 7 columns]\n"
     ]
    }
   ],
   "source": [
    "print(df.isnull())"
   ]
  },
  {
   "cell_type": "code",
   "execution_count": 15,
   "metadata": {},
   "outputs": [
    {
     "name": "stdout",
     "output_type": "stream",
     "text": [
      "               age   heart_rate  cigs_per_day         chol\n",
      "count  3900.000000  3900.000000   3900.000000  3900.000000\n",
      "mean     49.537949    75.688974      9.167949   236.596667\n",
      "std       8.559275    12.015376     12.016371    44.335516\n",
      "min      32.000000    44.000000      0.000000   113.000000\n",
      "25%      42.000000    68.000000      0.000000   206.000000\n",
      "50%      49.000000    75.000000      0.000000   234.000000\n",
      "75%      56.000000    82.000000     20.000000   263.000000\n",
      "max      70.000000   143.000000     70.000000   696.000000\n"
     ]
    }
   ],
   "source": [
    "print(df.describe())"
   ]
  },
  {
   "cell_type": "code",
   "execution_count": null,
   "metadata": {},
   "outputs": [],
   "source": [
    "rows_with_null = df[df.isnull().any(axis=1)]\n",
    "print(rows_with_null)"
   ]
  },
  {
   "cell_type": "code",
   "execution_count": 17,
   "metadata": {},
   "outputs": [
    {
     "name": "stdout",
     "output_type": "stream",
     "text": [
      "age                     0\n",
      "sex                     0\n",
      "current_smoker          0\n",
      "heart_rate              0\n",
      "blood_pressure          0\n",
      "cigs_per_day            0\n",
      "chol                    0\n",
      "blood_pressure_stage    0\n",
      "dtype: int64\n"
     ]
    }
   ],
   "source": [
    "print(df.isnull().sum())"
   ]
  },
  {
   "cell_type": "code",
   "execution_count": null,
   "metadata": {},
   "outputs": [],
   "source": []
  },
  {
   "cell_type": "code",
   "execution_count": null,
   "metadata": {},
   "outputs": [],
   "source": []
  },
  {
   "cell_type": "code",
   "execution_count": 6,
   "metadata": {},
   "outputs": [
    {
     "name": "stdout",
     "output_type": "stream",
     "text": [
      "0       219.0\n",
      "1       248.0\n",
      "2       235.0\n",
      "3       225.0\n",
      "4       226.0\n",
      "        ...  \n",
      "3895    254.0\n",
      "3896    213.0\n",
      "3897    246.0\n",
      "3898    340.0\n",
      "3899    210.0\n",
      "Name: chol, Length: 3900, dtype: float64\n"
     ]
    }
   ],
   "source": [
    "print(df.chol)"
   ]
  },
  {
   "cell_type": "code",
   "execution_count": 7,
   "metadata": {},
   "outputs": [
    {
     "name": "stdout",
     "output_type": "stream",
     "text": [
      "      age   sex current_smoker  heart_rate blood_pressure  cigs_per_day  chol\n",
      "424    47  male             no          75         142/96           0.0   NaN\n",
      "1013   65  male             no          65     152.5/97.5           0.0   NaN\n",
      "1608   58  male             no          70       116.5/71           0.0   NaN\n",
      "2104   45  male            yes          72         126/85           3.0   NaN\n",
      "3175   51  male            yes          70       112.5/74          20.0   NaN\n",
      "3613   50  male            yes          72      152.5/105          30.0   NaN\n",
      "3705   43  male            yes          77         152/87          30.0   NaN\n"
     ]
    }
   ],
   "source": [
    "null_rows = df[df['chol'].isnull()]\n",
    "print(null_rows)"
   ]
  },
  {
   "cell_type": "code",
   "execution_count": 8,
   "metadata": {},
   "outputs": [],
   "source": [
    "mean_chol_smoker = df[df['current_smoker'] == 1]['chol'].mean()\n",
    "mean_chol_non_smoker = df[df['current_smoker'] == 0]['chol'].mean()"
   ]
  },
  {
   "cell_type": "code",
   "execution_count": 9,
   "metadata": {},
   "outputs": [],
   "source": [
    "df.loc[(df['current_smoker'] == 1) & (df['chol'].isnull()), 'chol'] = mean_chol_smoker\n",
    "df.loc[(df['current_smoker'] == 0) & (df['chol'].isnull()), 'chol'] = mean_chol_non_smoker"
   ]
  },
  {
   "cell_type": "code",
   "execution_count": null,
   "metadata": {},
   "outputs": [],
   "source": []
  },
  {
   "cell_type": "code",
   "execution_count": 10,
   "metadata": {},
   "outputs": [
    {
     "name": "stdout",
     "output_type": "stream",
     "text": [
      "age                0\n",
      "sex                0\n",
      "current_smoker     0\n",
      "heart_rate         0\n",
      "blood_pressure     0\n",
      "cigs_per_day      14\n",
      "chol               7\n",
      "dtype: int64\n"
     ]
    }
   ],
   "source": [
    "print(df.isnull().sum())"
   ]
  },
  {
   "cell_type": "code",
   "execution_count": 11,
   "metadata": {},
   "outputs": [
    {
     "name": "stdout",
     "output_type": "stream",
     "text": [
      "      age   sex current_smoker  heart_rate blood_pressure  cigs_per_day  chol\n",
      "424    47  male             no          75         142/96           0.0   NaN\n",
      "1013   65  male             no          65     152.5/97.5           0.0   NaN\n",
      "1608   58  male             no          70       116.5/71           0.0   NaN\n",
      "2104   45  male            yes          72         126/85           3.0   NaN\n",
      "3175   51  male            yes          70       112.5/74          20.0   NaN\n",
      "3613   50  male            yes          72      152.5/105          30.0   NaN\n",
      "3705   43  male            yes          77         152/87          30.0   NaN\n"
     ]
    }
   ],
   "source": [
    "null_rows = df[df['chol'].isnull()]\n",
    "print(null_rows)"
   ]
  },
  {
   "cell_type": "code",
   "execution_count": 12,
   "metadata": {},
   "outputs": [],
   "source": [
    "import pandas as pd\n",
    "import numpy as np\n",
    "df = pd.read_csv('smoking_health_data_final.csv')"
   ]
  },
  {
   "cell_type": "code",
   "execution_count": 13,
   "metadata": {},
   "outputs": [
    {
     "name": "stdout",
     "output_type": "stream",
     "text": [
      "      age   sex current_smoker  heart_rate blood_pressure  cigs_per_day  chol\n",
      "424    47  male             no          75         142/96           0.0   NaN\n",
      "1013   65  male             no          65     152.5/97.5           0.0   NaN\n",
      "1608   58  male             no          70       116.5/71           0.0   NaN\n",
      "2104   45  male            yes          72         126/85           3.0   NaN\n",
      "3175   51  male            yes          70       112.5/74          20.0   NaN\n",
      "3613   50  male            yes          72      152.5/105          30.0   NaN\n",
      "3705   43  male            yes          77         152/87          30.0   NaN\n"
     ]
    }
   ],
   "source": [
    "null_rows = df[df['chol'].isnull()]\n",
    "print(null_rows)"
   ]
  },
  {
   "cell_type": "code",
   "execution_count": 14,
   "metadata": {},
   "outputs": [],
   "source": [
    "mean_chol_smoker = df[df['current_smoker'] == 1]['chol'].mean()\n",
    "mean_chol_non_smoker = df[df['current_smoker'] == 0]['chol'].mean()"
   ]
  },
  {
   "cell_type": "code",
   "execution_count": 15,
   "metadata": {},
   "outputs": [],
   "source": [
    "df.loc[(df['current_smoker'] == 1) & (df['chol'].isnull()), 'chol'] = mean_chol_smoker\n",
    "df.loc[(df['current_smoker'] == 0) & (df['chol'].isnull()), 'chol'] = mean_chol_non_smoker"
   ]
  },
  {
   "cell_type": "code",
   "execution_count": 16,
   "metadata": {},
   "outputs": [
    {
     "name": "stdout",
     "output_type": "stream",
     "text": [
      "      age   sex current_smoker  heart_rate blood_pressure  cigs_per_day  chol\n",
      "424    47  male             no          75         142/96           0.0   NaN\n",
      "1013   65  male             no          65     152.5/97.5           0.0   NaN\n",
      "1608   58  male             no          70       116.5/71           0.0   NaN\n",
      "2104   45  male            yes          72         126/85           3.0   NaN\n",
      "3175   51  male            yes          70       112.5/74          20.0   NaN\n",
      "3613   50  male            yes          72      152.5/105          30.0   NaN\n",
      "3705   43  male            yes          77         152/87          30.0   NaN\n"
     ]
    }
   ],
   "source": [
    "null_rows = df[df['chol'].isnull()]\n",
    "print(null_rows)"
   ]
  },
  {
   "cell_type": "code",
   "execution_count": 18,
   "metadata": {},
   "outputs": [
    {
     "name": "stdout",
     "output_type": "stream",
     "text": [
      "Initial DataFrame with null values:\n",
      "      age   sex current_smoker  heart_rate blood_pressure  cigs_per_day  \\\n",
      "0      54  male            yes          95         110/72           9.0   \n",
      "1      45  male            yes          64         121/72           9.0   \n",
      "2      58  male            yes          81       127.5/76           9.0   \n",
      "3      42  male            yes          90       122.5/80           9.0   \n",
      "4      42  male            yes          62         119/80           9.0   \n",
      "...   ...   ...            ...         ...            ...           ...   \n",
      "3895   37  male            yes          88     122.5/82.5          60.0   \n",
      "3896   49  male            yes          70         123/75          60.0   \n",
      "3897   56  male            yes          70         125/79          60.0   \n",
      "3898   50  male            yes          85         134/95          60.0   \n",
      "3899   40  male            yes          98         132/86          70.0   \n",
      "\n",
      "       chol  blood_pressure_stage  \n",
      "0     219.0                Normal  \n",
      "1     248.0              Elevated  \n",
      "2     235.0              Elevated  \n",
      "3     225.0  Hypertension Stage 1  \n",
      "4     226.0  Hypertension Stage 1  \n",
      "...     ...                   ...  \n",
      "3895  254.0  Hypertension Stage 1  \n",
      "3896  213.0              Elevated  \n",
      "3897  246.0              Elevated  \n",
      "3898  340.0  Hypertension Stage 2  \n",
      "3899  210.0  Hypertension Stage 1  \n",
      "\n",
      "[3900 rows x 8 columns]\n",
      "Updated DataFrame with filled null values:\n"
     ]
    }
   ],
   "source": [
    "# Step 1: Load the dataset\n",
    "df = pd.read_csv('smoking_health_data_final.csv')\n",
    "\n",
    "# Step 2: Display the initial DataFrame with null values\n",
    "print(\"Initial DataFrame with null values:\")\n",
    "print(df)\n",
    "\n",
    "# Step 3: Calculate the means\n",
    "mean_chol_smoker = df[df['current_smoker'] == 1]['chol'].mean()\n",
    "mean_chol_non_smoker = df[df['current_smoker'] == 0]['chol'].mean()\n",
    "\n",
    "# Step 4: Fill missing values\n",
    "df.loc[(df['current_smoker'] == 1) & (df['chol'].isnull()), 'chol'] = mean_chol_smoker\n",
    "df.loc[(df['current_smoker'] == 0) & (df['chol'].isnull()), 'chol'] = mean_chol_non_smoker\n",
    "\n",
    "# Step 5: Display the updated DataFrame to check the changes\n",
    "print(\"Updated DataFrame with filled null values:\")"
   ]
  },
  {
   "cell_type": "code",
   "execution_count": 19,
   "metadata": {},
   "outputs": [],
   "source": [
    "# Save the updated DataFrame to a new CSV file\n",
    "df.to_csv('smoking_health_data_final.csv', index=False)"
   ]
  },
  {
   "cell_type": "code",
   "execution_count": 20,
   "metadata": {},
   "outputs": [
    {
     "name": "stdout",
     "output_type": "stream",
     "text": [
      "        age    sex  current_smoker  heart_rate  blood_pressure  cigs_per_day  \\\n",
      "0     False  False           False       False           False         False   \n",
      "1     False  False           False       False           False         False   \n",
      "2     False  False           False       False           False         False   \n",
      "3     False  False           False       False           False         False   \n",
      "4     False  False           False       False           False         False   \n",
      "...     ...    ...             ...         ...             ...           ...   \n",
      "3895  False  False           False       False           False         False   \n",
      "3896  False  False           False       False           False         False   \n",
      "3897  False  False           False       False           False         False   \n",
      "3898  False  False           False       False           False         False   \n",
      "3899  False  False           False       False           False         False   \n",
      "\n",
      "       chol  blood_pressure_stage  \n",
      "0     False                 False  \n",
      "1     False                 False  \n",
      "2     False                 False  \n",
      "3     False                 False  \n",
      "4     False                 False  \n",
      "...     ...                   ...  \n",
      "3895  False                 False  \n",
      "3896  False                 False  \n",
      "3897  False                 False  \n",
      "3898  False                 False  \n",
      "3899  False                 False  \n",
      "\n",
      "[3900 rows x 8 columns]\n"
     ]
    }
   ],
   "source": [
    "print(df.isnull())"
   ]
  },
  {
   "cell_type": "code",
   "execution_count": 21,
   "metadata": {},
   "outputs": [],
   "source": [
    "df = pd.read_csv('smoking_health_data_final.csv')"
   ]
  },
  {
   "cell_type": "code",
   "execution_count": 22,
   "metadata": {},
   "outputs": [
    {
     "data": {
      "text/plain": [
       "age                     0\n",
       "sex                     0\n",
       "current_smoker          0\n",
       "heart_rate              0\n",
       "blood_pressure          0\n",
       "cigs_per_day            0\n",
       "chol                    0\n",
       "blood_pressure_stage    0\n",
       "dtype: int64"
      ]
     },
     "execution_count": 22,
     "metadata": {},
     "output_type": "execute_result"
    }
   ],
   "source": [
    "df.isna().sum()"
   ]
  },
  {
   "cell_type": "code",
   "execution_count": null,
   "metadata": {},
   "outputs": [],
   "source": []
  },
  {
   "cell_type": "code",
   "execution_count": null,
   "metadata": {},
   "outputs": [],
   "source": []
  },
  {
   "cell_type": "code",
   "execution_count": 23,
   "metadata": {},
   "outputs": [
    {
     "data": {
      "text/html": [
       "<div>\n",
       "<style scoped>\n",
       "    .dataframe tbody tr th:only-of-type {\n",
       "        vertical-align: middle;\n",
       "    }\n",
       "\n",
       "    .dataframe tbody tr th {\n",
       "        vertical-align: top;\n",
       "    }\n",
       "\n",
       "    .dataframe thead th {\n",
       "        text-align: right;\n",
       "    }\n",
       "</style>\n",
       "<table border=\"1\" class=\"dataframe\">\n",
       "  <thead>\n",
       "    <tr style=\"text-align: right;\">\n",
       "      <th></th>\n",
       "      <th>age</th>\n",
       "      <th>sex</th>\n",
       "      <th>current_smoker</th>\n",
       "      <th>heart_rate</th>\n",
       "      <th>blood_pressure</th>\n",
       "      <th>cigs_per_day</th>\n",
       "      <th>chol</th>\n",
       "      <th>blood_pressure_stage</th>\n",
       "    </tr>\n",
       "  </thead>\n",
       "  <tbody>\n",
       "  </tbody>\n",
       "</table>\n",
       "</div>"
      ],
      "text/plain": [
       "Empty DataFrame\n",
       "Columns: [age, sex, current_smoker, heart_rate, blood_pressure, cigs_per_day, chol, blood_pressure_stage]\n",
       "Index: []"
      ]
     },
     "execution_count": 23,
     "metadata": {},
     "output_type": "execute_result"
    }
   ],
   "source": [
    "df.loc[df['cigs_per_day'].isna()]"
   ]
  },
  {
   "cell_type": "code",
   "execution_count": 24,
   "metadata": {},
   "outputs": [],
   "source": [
    "df['cigs_per_day'] = df['cigs_per_day'].fillna(round(df['cigs_per_day'].mean()))"
   ]
  },
  {
   "cell_type": "code",
   "execution_count": 25,
   "metadata": {},
   "outputs": [
    {
     "data": {
      "text/html": [
       "<div>\n",
       "<style scoped>\n",
       "    .dataframe tbody tr th:only-of-type {\n",
       "        vertical-align: middle;\n",
       "    }\n",
       "\n",
       "    .dataframe tbody tr th {\n",
       "        vertical-align: top;\n",
       "    }\n",
       "\n",
       "    .dataframe thead th {\n",
       "        text-align: right;\n",
       "    }\n",
       "</style>\n",
       "<table border=\"1\" class=\"dataframe\">\n",
       "  <thead>\n",
       "    <tr style=\"text-align: right;\">\n",
       "      <th></th>\n",
       "      <th>age</th>\n",
       "      <th>sex</th>\n",
       "      <th>current_smoker</th>\n",
       "      <th>heart_rate</th>\n",
       "      <th>blood_pressure</th>\n",
       "      <th>cigs_per_day</th>\n",
       "      <th>chol</th>\n",
       "      <th>blood_pressure_stage</th>\n",
       "    </tr>\n",
       "  </thead>\n",
       "  <tbody>\n",
       "  </tbody>\n",
       "</table>\n",
       "</div>"
      ],
      "text/plain": [
       "Empty DataFrame\n",
       "Columns: [age, sex, current_smoker, heart_rate, blood_pressure, cigs_per_day, chol, blood_pressure_stage]\n",
       "Index: []"
      ]
     },
     "execution_count": 25,
     "metadata": {},
     "output_type": "execute_result"
    }
   ],
   "source": [
    "df.loc[df['chol'].isna()]"
   ]
  },
  {
   "cell_type": "code",
   "execution_count": null,
   "metadata": {},
   "outputs": [],
   "source": [
    "df['chol'] = df['chol'].fillna(round(df['chol'].mean()))\n",
    "printf.df"
   ]
  },
  {
   "cell_type": "code",
   "execution_count": 26,
   "metadata": {},
   "outputs": [
    {
     "data": {
      "text/plain": [
       "0"
      ]
     },
     "execution_count": 26,
     "metadata": {},
     "output_type": "execute_result"
    }
   ],
   "source": [
    "df.duplicated().sum()"
   ]
  },
  {
   "cell_type": "code",
   "execution_count": 36,
   "metadata": {},
   "outputs": [],
   "source": [
    "df.to_csv('smoking_health_data_final.csv', index=False)"
   ]
  },
  {
   "cell_type": "code",
   "execution_count": 37,
   "metadata": {},
   "outputs": [],
   "source": [
    "df = pd.read_csv('smoking_health_data_final.csv')"
   ]
  },
  {
   "cell_type": "code",
   "execution_count": 38,
   "metadata": {},
   "outputs": [
    {
     "data": {
      "text/plain": [
       "age               0\n",
       "sex               0\n",
       "current_smoker    0\n",
       "heart_rate        0\n",
       "blood_pressure    0\n",
       "cigs_per_day      0\n",
       "chol              0\n",
       "dtype: int64"
      ]
     },
     "execution_count": 38,
     "metadata": {},
     "output_type": "execute_result"
    }
   ],
   "source": [
    "df.isna().sum()"
   ]
  },
  {
   "cell_type": "code",
   "execution_count": 41,
   "metadata": {},
   "outputs": [
    {
     "data": {
      "text/html": [
       "<div>\n",
       "<style scoped>\n",
       "    .dataframe tbody tr th:only-of-type {\n",
       "        vertical-align: middle;\n",
       "    }\n",
       "\n",
       "    .dataframe tbody tr th {\n",
       "        vertical-align: top;\n",
       "    }\n",
       "\n",
       "    .dataframe thead th {\n",
       "        text-align: right;\n",
       "    }\n",
       "</style>\n",
       "<table border=\"1\" class=\"dataframe\">\n",
       "  <thead>\n",
       "    <tr style=\"text-align: right;\">\n",
       "      <th></th>\n",
       "      <th>age</th>\n",
       "      <th>sex</th>\n",
       "      <th>current_smoker</th>\n",
       "      <th>heart_rate</th>\n",
       "      <th>blood_pressure</th>\n",
       "      <th>cigs_per_day</th>\n",
       "      <th>chol</th>\n",
       "    </tr>\n",
       "  </thead>\n",
       "  <tbody>\n",
       "  </tbody>\n",
       "</table>\n",
       "</div>"
      ],
      "text/plain": [
       "Empty DataFrame\n",
       "Columns: [age, sex, current_smoker, heart_rate, blood_pressure, cigs_per_day, chol]\n",
       "Index: []"
      ]
     },
     "execution_count": 41,
     "metadata": {},
     "output_type": "execute_result"
    }
   ],
   "source": [
    "df.loc[df['cigs_per_day'].isna()]"
   ]
  },
  {
   "cell_type": "code",
   "execution_count": 42,
   "metadata": {},
   "outputs": [
    {
     "name": "stdout",
     "output_type": "stream",
     "text": [
      "               age   heart_rate  cigs_per_day         chol\n",
      "count  3900.000000  3900.000000   3900.000000  3900.000000\n",
      "mean     49.537949    75.688974      9.167949   236.596667\n",
      "std       8.559275    12.015376     12.016371    44.335516\n",
      "min      32.000000    44.000000      0.000000   113.000000\n",
      "25%      42.000000    68.000000      0.000000   206.000000\n",
      "50%      49.000000    75.000000      0.000000   234.000000\n",
      "75%      56.000000    82.000000     20.000000   263.000000\n",
      "max      70.000000   143.000000     70.000000   696.000000\n"
     ]
    }
   ],
   "source": [
    "print(df.describe())"
   ]
  },
  {
   "cell_type": "code",
   "execution_count": 43,
   "metadata": {},
   "outputs": [
    {
     "data": {
      "text/plain": [
       "female    2081\n",
       "male      1819\n",
       "Name: sex, dtype: int64"
      ]
     },
     "execution_count": 43,
     "metadata": {},
     "output_type": "execute_result"
    }
   ],
   "source": [
    "df[\"sex\"].value_counts()"
   ]
  },
  {
   "cell_type": "code",
   "execution_count": 27,
   "metadata": {},
   "outputs": [],
   "source": [
    "import numpy as np\n",
    "import pandas as pd\n",
    "import seaborn as sns\n",
    "import matplotlib.pylab as plt\n",
    "import warnings\n",
    "warnings.filterwarnings(\"ignore\")"
   ]
  },
  {
   "cell_type": "code",
   "execution_count": 28,
   "metadata": {},
   "outputs": [
    {
     "data": {
      "text/html": [
       "<div>\n",
       "<style scoped>\n",
       "    .dataframe tbody tr th:only-of-type {\n",
       "        vertical-align: middle;\n",
       "    }\n",
       "\n",
       "    .dataframe tbody tr th {\n",
       "        vertical-align: top;\n",
       "    }\n",
       "\n",
       "    .dataframe thead th {\n",
       "        text-align: right;\n",
       "    }\n",
       "</style>\n",
       "<table border=\"1\" class=\"dataframe\">\n",
       "  <thead>\n",
       "    <tr style=\"text-align: right;\">\n",
       "      <th></th>\n",
       "      <th>count</th>\n",
       "      <th>mean</th>\n",
       "      <th>std</th>\n",
       "      <th>min</th>\n",
       "      <th>25%</th>\n",
       "      <th>50%</th>\n",
       "      <th>75%</th>\n",
       "      <th>max</th>\n",
       "    </tr>\n",
       "  </thead>\n",
       "  <tbody>\n",
       "    <tr>\n",
       "      <th>age</th>\n",
       "      <td>3900.0</td>\n",
       "      <td>49.537949</td>\n",
       "      <td>8.559275</td>\n",
       "      <td>32.0</td>\n",
       "      <td>42.0</td>\n",
       "      <td>49.0</td>\n",
       "      <td>56.0</td>\n",
       "      <td>70.0</td>\n",
       "    </tr>\n",
       "    <tr>\n",
       "      <th>heart_rate</th>\n",
       "      <td>3900.0</td>\n",
       "      <td>75.688974</td>\n",
       "      <td>12.015376</td>\n",
       "      <td>44.0</td>\n",
       "      <td>68.0</td>\n",
       "      <td>75.0</td>\n",
       "      <td>82.0</td>\n",
       "      <td>143.0</td>\n",
       "    </tr>\n",
       "    <tr>\n",
       "      <th>cigs_per_day</th>\n",
       "      <td>3900.0</td>\n",
       "      <td>9.167949</td>\n",
       "      <td>12.016371</td>\n",
       "      <td>0.0</td>\n",
       "      <td>0.0</td>\n",
       "      <td>0.0</td>\n",
       "      <td>20.0</td>\n",
       "      <td>70.0</td>\n",
       "    </tr>\n",
       "    <tr>\n",
       "      <th>chol</th>\n",
       "      <td>3900.0</td>\n",
       "      <td>236.596667</td>\n",
       "      <td>44.335516</td>\n",
       "      <td>113.0</td>\n",
       "      <td>206.0</td>\n",
       "      <td>234.0</td>\n",
       "      <td>263.0</td>\n",
       "      <td>696.0</td>\n",
       "    </tr>\n",
       "  </tbody>\n",
       "</table>\n",
       "</div>"
      ],
      "text/plain": [
       "               count        mean        std    min    25%    50%    75%    max\n",
       "age           3900.0   49.537949   8.559275   32.0   42.0   49.0   56.0   70.0\n",
       "heart_rate    3900.0   75.688974  12.015376   44.0   68.0   75.0   82.0  143.0\n",
       "cigs_per_day  3900.0    9.167949  12.016371    0.0    0.0    0.0   20.0   70.0\n",
       "chol          3900.0  236.596667  44.335516  113.0  206.0  234.0  263.0  696.0"
      ]
     },
     "execution_count": 28,
     "metadata": {},
     "output_type": "execute_result"
    }
   ],
   "source": [
    "df.describe().T"
   ]
  },
  {
   "cell_type": "code",
   "execution_count": 33,
   "metadata": {},
   "outputs": [
    {
     "data": {
      "image/png": "[encoded data removed]",
      "text/plain": [
       "<Figure size 640x480 with 1 Axes>"
      ]
     },
     "metadata": {},
     "output_type": "display_data"
    }
   ],
   "source": [
    "\n",
    "\n",
    "# Define custom colors for the bars\n",
    "custom_colors = [\"#FF6347\", \"#6495ED\"]  # Example colors: tomato and cornflowerblue\n",
    "\n",
    "# Create the count plot with custom colors\n",
    "sns.countplot(x='sex', data=df, hue='current_smoker', palette=custom_colors)\n",
    "\n",
    "# Set title and axis labels\n",
    "plt.title('Gender Distribution')\n",
    "plt.xlabel('Gender')\n",
    "plt.ylabel('Number of People')\n",
    "\n",
    "# Show the plotimport seaborn as sns\n",
    "import matplotlib.pyplot as plt\n",
    "plt.legend(title=\"Smoking Status\")\n",
    "\n",
    "# Show the plot\n",
    "plt.show()"
   ]
  },
  {
   "cell_type": "code",
   "execution_count": 51,
   "metadata": {},
   "outputs": [
    {
     "data": {
      "text/plain": [
       "0.0     1968\n",
       "20.0     691\n",
       "30.0     208\n",
       "15.0     198\n",
       "10.0     131\n",
       "9.0      122\n",
       "5.0      105\n",
       "3.0       89\n",
       "40.0      77\n",
       "1.0       65\n",
       "43.0      53\n",
       "25.0      50\n",
       "35.0      21\n",
       "2.0       17\n",
       "6.0       17\n",
       "7.0       11\n",
       "60.0      11\n",
       "8.0        9\n",
       "4.0        9\n",
       "17.0       7\n",
       "18.0       7\n",
       "23.0       6\n",
       "50.0       5\n",
       "11.0       5\n",
       "45.0       3\n",
       "16.0       3\n",
       "13.0       3\n",
       "12.0       3\n",
       "19.0       2\n",
       "38.0       1\n",
       "29.0       1\n",
       "14.0       1\n",
       "70.0       1\n",
       "Name: cigs_per_day, dtype: int64"
      ]
     },
     "execution_count": 51,
     "metadata": {},
     "output_type": "execute_result"
    }
   ],
   "source": [
    "df[\"cigs_per_day\"].value_counts()"
   ]
  },
  {
   "cell_type": "code",
   "execution_count": 55,
   "metadata": {},
   "outputs": [],
   "source": [
    "cigs_groups = pd.cut(df['cigs_per_day'], bins=[0, 5, 10, 15, 20, 25])"
   ]
  },
  {
   "cell_type": "code",
   "execution_count": 56,
   "metadata": {},
   "outputs": [
    {
     "data": {
      "text/plain": [
       "(15, 20]    710\n",
       "(5, 10]     290\n",
       "(0, 5]      285\n",
       "(10, 15]    210\n",
       "(20, 25]     56\n",
       "Name: cigs_per_day, dtype: int64"
      ]
     },
     "execution_count": 56,
     "metadata": {},
     "output_type": "execute_result"
    }
   ],
   "source": [
    "cigs_groups.value_counts()"
   ]
  },
  {
   "cell_type": "code",
   "execution_count": 57,
   "metadata": {},
   "outputs": [
    {
     "data": {
      "text/plain": [
       "(0, 5]      285\n",
       "(5, 10]     290\n",
       "(10, 15]    210\n",
       "(15, 20]    710\n",
       "(20, 25]     56\n",
       "Name: cigs_per_day, dtype: int64"
      ]
     },
     "execution_count": 57,
     "metadata": {},
     "output_type": "execute_result"
    }
   ],
   "source": [
    "cigs_groups_count = cigs_groups.value_counts().sort_index()\n",
    "cigs_groups_count"
   ]
  },
  {
   "cell_type": "code",
   "execution_count": 99,
   "metadata": {},
   "outputs": [
    {
     "data": {
      "image/png": "[encoded data removed]",
      "text/plain": [
       "<Figure size 640x480 with 1 Axes>"
      ]
     },
     "metadata": {},
     "output_type": "display_data"
    }
   ],
   "source": [
    "cigs_groups_count.plot(kind = \"bar\", color='orange')\n",
    "plt.title(\"Number of cigarettes smoked per day\")\n",
    "plt.xlabel('Groups')\n",
    "plt.ylabel('Number of people')\n",
    "plt.xticks(rotation=45)\n",
    "plt.grid(axis='y', linestyle='--', alpha=0.6)\n",
    "plt.tight_layout()\n",
    "plt.show()"
   ]
  },
  {
   "cell_type": "code",
   "execution_count": null,
   "metadata": {},
   "outputs": [],
   "source": []
  },
  {
   "cell_type": "code",
   "execution_count": null,
   "metadata": {},
   "outputs": [],
   "source": []
  },
  {
   "cell_type": "code",
   "execution_count": null,
   "metadata": {},
   "outputs": [],
   "source": [
    "blood_pressure = df['blood_pressure'].str.split('/', expand=True)\n",
    "blood_pressure.columns = ['systolic', 'diastolic']\n",
    "blood_pressure = blood_pressure.astype(float)"
   ]
  },
  {
   "cell_type": "code",
   "execution_count": null,
   "metadata": {},
   "outputs": [],
   "source": [
    "def determine_blood_pressure_stage(systolic, diastolic):\n",
    "    if systolic >= 180 or diastolic >= 120:\n",
    "        return \"Hypertensive Crisis\"\n",
    "    elif systolic >= 140 or diastolic >= 90:\n",
    "        return \"Hypertension Stage 2\"\n",
    "    elif systolic >= 130 or diastolic >= 80:\n",
    "        return \"Hypertension Stage 1\"\n",
    "    elif systolic >= 120 and diastolic < 80:\n",
    "        return \"Elevated\"\n",
    "    else:\n",
    "        return \"Normal\"\n"
   ]
  },
  {
   "cell_type": "code",
   "execution_count": null,
   "metadata": {},
   "outputs": [],
   "source": [
    "#Vectorize the determine_blood_pressure_stage function    \n",
    "vectorized_bp_stage = np.vectorize(determine_blood_pressure_stage)\n",
    "\n",
    "#Apply the function to get different blood pressure stages\n",
    "df['blood_pressure_stage'] = vectorized_bp_stage(blood_pressure['systolic'], blood_pressure['diastolic'])"
   ]
  },
  {
   "cell_type": "code",
   "execution_count": 67,
   "metadata": {},
   "outputs": [
    {
     "name": "stdout",
     "output_type": "stream",
     "text": [
      "               age   heart_rate  cigs_per_day         chol\n",
      "count  3900.000000  3900.000000   3900.000000  3900.000000\n",
      "mean     49.537949    75.688974      9.167949   236.596667\n",
      "std       8.559275    12.015376     12.016371    44.335516\n",
      "min      32.000000    44.000000      0.000000   113.000000\n",
      "25%      42.000000    68.000000      0.000000   206.000000\n",
      "50%      49.000000    75.000000      0.000000   234.000000\n",
      "75%      56.000000    82.000000     20.000000   263.000000\n",
      "max      70.000000   143.000000     70.000000   696.000000\n"
     ]
    }
   ],
   "source": [
    "print(df.describe())"
   ]
  },
  {
   "cell_type": "code",
   "execution_count": 68,
   "metadata": {},
   "outputs": [
    {
     "data": {
      "text/plain": [
       "(3900, 8)"
      ]
     },
     "execution_count": 68,
     "metadata": {},
     "output_type": "execute_result"
    }
   ],
   "source": [
    "df.shape"
   ]
  },
  {
   "cell_type": "code",
   "execution_count": 44,
   "metadata": {},
   "outputs": [
    {
     "name": "stdout",
     "output_type": "stream",
     "text": [
      "<class 'pandas.core.frame.DataFrame'>\n",
      "RangeIndex: 3900 entries, 0 to 3899\n",
      "Data columns (total 8 columns):\n",
      " #   Column                Non-Null Count  Dtype  \n",
      "---  ------                --------------  -----  \n",
      " 0   age                   3900 non-null   int64  \n",
      " 1   sex                   3900 non-null   object \n",
      " 2   current_smoker        3900 non-null   object \n",
      " 3   heart_rate            3900 non-null   int64  \n",
      " 4   blood_pressure        3900 non-null   object \n",
      " 5   cigs_per_day          3900 non-null   float64\n",
      " 6   chol                  3900 non-null   float64\n",
      " 7   blood_pressure_stage  3900 non-null   object \n",
      "dtypes: float64(2), int64(2), object(4)\n",
      "memory usage: 243.9+ KB\n",
      "None\n"
     ]
    }
   ],
   "source": [
    "print(df.info())"
   ]
  },
  {
   "cell_type": "code",
   "execution_count": 45,
   "metadata": {},
   "outputs": [
    {
     "name": "stdout",
     "output_type": "stream",
     "text": [
      "   age   sex current_smoker  heart_rate blood_pressure  cigs_per_day   chol  \\\n",
      "0   54  male            yes          95         110/72           9.0  219.0   \n",
      "1   45  male            yes          64         121/72           9.0  248.0   \n",
      "2   58  male            yes          81       127.5/76           9.0  235.0   \n",
      "3   42  male            yes          90       122.5/80           9.0  225.0   \n",
      "4   42  male            yes          62         119/80           9.0  226.0   \n",
      "\n",
      "   blood_pressure_stage  \n",
      "0                Normal  \n",
      "1              Elevated  \n",
      "2              Elevated  \n",
      "3  Hypertension Stage 1  \n",
      "4  Hypertension Stage 1  \n"
     ]
    }
   ],
   "source": [
    "print(df.head())"
   ]
  },
  {
   "cell_type": "code",
   "execution_count": 71,
   "metadata": {},
   "outputs": [
    {
     "name": "stdout",
     "output_type": "stream",
     "text": [
      "age                     0\n",
      "sex                     0\n",
      "current_smoker          0\n",
      "heart_rate              0\n",
      "blood_pressure          0\n",
      "cigs_per_day            0\n",
      "chol                    0\n",
      "blood_pressure_stage    0\n",
      "dtype: int64\n"
     ]
    }
   ],
   "source": [
    "print(df.isnull().sum())"
   ]
  },
  {
   "cell_type": "code",
   "execution_count": 72,
   "metadata": {},
   "outputs": [
    {
     "data": {
      "text/plain": [
       "0"
      ]
     },
     "execution_count": 72,
     "metadata": {},
     "output_type": "execute_result"
    }
   ],
   "source": [
    "df.duplicated().sum()"
   ]
  },
  {
   "cell_type": "code",
   "execution_count": 42,
   "metadata": {},
   "outputs": [],
   "source": [
    "df.to_csv('smoking_health_data_final.csv', index=False)"
   ]
  },
  {
   "cell_type": "code",
   "execution_count": 43,
   "metadata": {},
   "outputs": [],
   "source": [
    "df = pd.read_csv('smoking_health_data_final.csv')"
   ]
  },
  {
   "cell_type": "code",
   "execution_count": 34,
   "metadata": {},
   "outputs": [],
   "source": [
    "#Create a function to categorize the different blood pressure stage\n",
    "def determine_blood_pressure_stage(systolic, diastolic):\n",
    "    if systolic >= 180 or diastolic >= 120:\n",
    "        return \"Hypertensive Crisis\"\n",
    "    elif systolic >= 140 or diastolic >= 90:\n",
    "        return \"Hypertension Stage 2\"\n",
    "    elif systolic >= 130 or diastolic >= 80:\n",
    "        return \"Hypertension Stage 1\"\n",
    "    elif systolic >= 120 and diastolic < 80:\n",
    "        return \"Elevated\"\n",
    "    else:\n",
    "        return \"Normal\"\n"
   ]
  },
  {
   "cell_type": "code",
   "execution_count": 95,
   "metadata": {},
   "outputs": [
    {
     "data": {
      "image/png": "[encoded data removed]",
      "text/plain": [
       "<Figure size 640x480 with 1 Axes>"
      ]
     },
     "metadata": {},
     "output_type": "display_data"
    }
   ],
   "source": [
    "\n",
    "\n",
    "import pandas as pd\n",
    "\n",
    "# Assuming 'data' is your DataFrame containing blood pressure data\n",
    "data = pd.read_csv('smoking_health_data_final.csv')  # Load your data from a CSV file or any other source\n",
    "\n",
    "# Now you can proceed with the count plot code\n",
    "import seaborn as sns\n",
    "import matplotlib.pyplot as plt\n",
    "\n",
    "sns.set_style(\"whitegrid\")\n",
    "\n",
    "sns.countplot(x='blood_pressure_stage', data=data, palette='hsv')\n",
    "\n",
    "plt.title('Distribution of Blood Pressure Stages', color='blue',fontweight='bold')  # Set the color to blue\n",
    "plt.xlabel('Blood Pressure Stage',color='blue')\n",
    "plt.ylabel('Frequency',color='blue')\n",
    "\n",
    "plt.xticks(rotation=45)\n",
    "\n",
    "plt.tight_layout()\n",
    "plt.show()"
   ]
  },
  {
   "cell_type": "code",
   "execution_count": 55,
   "metadata": {},
   "outputs": [
    {
     "data": {
      "image/png": "[encoded data removed]",
      "text/plain": [
       "<Figure size 640x480 with 1 Axes>"
      ]
     },
     "metadata": {},
     "output_type": "display_data"
    }
   ],
   "source": [
    "# Cigarettes Per Day vs. Cholesterol\n",
    "plt.scatter(df['cigs_per_day'], df['chol'], alpha=0.5, color='red')\n",
    "plt.xlabel('Cigarettes Per Day')\n",
    "plt.ylabel('Cholesterol')\n",
    "plt.title('Cigarettes Per Day vs. Cholesterol')\n",
    "plt.show()"
   ]
  },
  {
   "cell_type": "code",
   "execution_count": 31,
   "metadata": {},
   "outputs": [
    {
     "name": "stdout",
     "output_type": "stream",
     "text": [
      "Smoking Status Distribution across Age Groups and Genders:\n",
      " current_smoker     no  yes\n",
      "age_group sex             \n",
      "30-40     female  162  195\n",
      "          male    111  222\n",
      "40-50     female  395  389\n",
      "          male    231  476\n",
      "50-60     female  451  188\n",
      "          male    244  303\n",
      "60-70     female  246   55\n",
      "          male    128  104\n"
     ]
    }
   ],
   "source": [
    "import numpy as np\n",
    "import matplotlib.pyplot as plt\n",
    "import seaborn as sns\n",
    "\n",
    "# Set the aesthetic style of the plots\n",
    "sns.set_style(\"whitegrid\")\n",
    "\n",
    "# Create age groups for better analysis\n",
    "data_clean['age_group'] = pd.cut(data_clean['age'], bins=[30, 40, 50, 60, 70], labels=['30-40', '40-50', '50-60', '60-70'])\n",
    "\n",
    "# Analyze the distribution of smoking status across different age groups and genders\n",
    "smoking_status_distribution = pd.crosstab(index=[data_clean['age_group'], data_clean['sex']], columns=data_clean['current_smoker'])\n",
    "print(\"Smoking Status Distribution across Age Groups and Genders:\\n\", smoking_status_distribution)"
   ]
  },
  {
   "cell_type": "code",
   "execution_count": 32,
   "metadata": {},
   "outputs": [
    {
     "data": {
      "text/plain": [
       "<matplotlib.legend.Legend at 0x276b51ab810>"
      ]
     },
     "execution_count": 32,
     "metadata": {},
     "output_type": "execute_result"
    },
    {
     "data": {
      "image/png": "[encoded data removed]",
      "text/plain": [
       "<Figure size 1200x600 with 1 Axes>"
      ]
     },
     "metadata": {},
     "output_type": "display_data"
    }
   ],
   "source": [
    "# Visualize the distribution of smoking status across different age groups and genders\n",
    "plt.figure(figsize=(12, 6))\n",
    "sns.countplot(x='age_group', hue='current_smoker', data=data_clean, palette='coolwarm')\n",
    "plt.title('Distribution of Smoking Status across Age Groups')\n",
    "plt.xlabel('Age Group')\n",
    "plt.ylabel('Count')\n",
    "plt.legend(title='Smoking Status')\n"
   ]
  },
  {
   "cell_type": "code",
   "execution_count": 46,
   "metadata": {},
   "outputs": [
    {
     "data": {
      "text/html": [
       "<div>\n",
       "<style scoped>\n",
       "    .dataframe tbody tr th:only-of-type {\n",
       "        vertical-align: middle;\n",
       "    }\n",
       "\n",
       "    .dataframe tbody tr th {\n",
       "        vertical-align: top;\n",
       "    }\n",
       "\n",
       "    .dataframe thead th {\n",
       "        text-align: right;\n",
       "    }\n",
       "</style>\n",
       "<table border=\"1\" class=\"dataframe\">\n",
       "  <thead>\n",
       "    <tr style=\"text-align: right;\">\n",
       "      <th></th>\n",
       "      <th>age</th>\n",
       "      <th>heart_rate</th>\n",
       "      <th>cigs_per_day</th>\n",
       "      <th>chol</th>\n",
       "    </tr>\n",
       "  </thead>\n",
       "  <tbody>\n",
       "    <tr>\n",
       "      <th>count</th>\n",
       "      <td>3900.000000</td>\n",
       "      <td>3900.000000</td>\n",
       "      <td>3900.000000</td>\n",
       "      <td>3900.000000</td>\n",
       "    </tr>\n",
       "    <tr>\n",
       "      <th>mean</th>\n",
       "      <td>49.537949</td>\n",
       "      <td>75.688974</td>\n",
       "      <td>9.167949</td>\n",
       "      <td>236.596667</td>\n",
       "    </tr>\n",
       "    <tr>\n",
       "      <th>std</th>\n",
       "      <td>8.559275</td>\n",
       "      <td>12.015376</td>\n",
       "      <td>12.016371</td>\n",
       "      <td>44.335516</td>\n",
       "    </tr>\n",
       "    <tr>\n",
       "      <th>min</th>\n",
       "      <td>32.000000</td>\n",
       "      <td>44.000000</td>\n",
       "      <td>0.000000</td>\n",
       "      <td>113.000000</td>\n",
       "    </tr>\n",
       "    <tr>\n",
       "      <th>25%</th>\n",
       "      <td>42.000000</td>\n",
       "      <td>68.000000</td>\n",
       "      <td>0.000000</td>\n",
       "      <td>206.000000</td>\n",
       "    </tr>\n",
       "    <tr>\n",
       "      <th>50%</th>\n",
       "      <td>49.000000</td>\n",
       "      <td>75.000000</td>\n",
       "      <td>0.000000</td>\n",
       "      <td>234.000000</td>\n",
       "    </tr>\n",
       "    <tr>\n",
       "      <th>75%</th>\n",
       "      <td>56.000000</td>\n",
       "      <td>82.000000</td>\n",
       "      <td>20.000000</td>\n",
       "      <td>263.000000</td>\n",
       "    </tr>\n",
       "    <tr>\n",
       "      <th>max</th>\n",
       "      <td>70.000000</td>\n",
       "      <td>143.000000</td>\n",
       "      <td>70.000000</td>\n",
       "      <td>696.000000</td>\n",
       "    </tr>\n",
       "  </tbody>\n",
       "</table>\n",
       "</div>"
      ],
      "text/plain": [
       "               age   heart_rate  cigs_per_day         chol\n",
       "count  3900.000000  3900.000000   3900.000000  3900.000000\n",
       "mean     49.537949    75.688974      9.167949   236.596667\n",
       "std       8.559275    12.015376     12.016371    44.335516\n",
       "min      32.000000    44.000000      0.000000   113.000000\n",
       "25%      42.000000    68.000000      0.000000   206.000000\n",
       "50%      49.000000    75.000000      0.000000   234.000000\n",
       "75%      56.000000    82.000000     20.000000   263.000000\n",
       "max      70.000000   143.000000     70.000000   696.000000"
      ]
     },
     "execution_count": 46,
     "metadata": {},
     "output_type": "execute_result"
    }
   ],
   "source": [
    "df.describe()"
   ]
  },
  {
   "cell_type": "code",
   "execution_count": 7,
   "metadata": {},
   "outputs": [
    {
     "data": {
      "text/html": [
       "<div>\n",
       "<style scoped>\n",
       "    .dataframe tbody tr th:only-of-type {\n",
       "        vertical-align: middle;\n",
       "    }\n",
       "\n",
       "    .dataframe tbody tr th {\n",
       "        vertical-align: top;\n",
       "    }\n",
       "\n",
       "    .dataframe thead th {\n",
       "        text-align: right;\n",
       "    }\n",
       "</style>\n",
       "<table border=\"1\" class=\"dataframe\">\n",
       "  <thead>\n",
       "    <tr style=\"text-align: right;\">\n",
       "      <th></th>\n",
       "      <th>age</th>\n",
       "      <th>sex</th>\n",
       "      <th>current_smoker</th>\n",
       "      <th>heart_rate</th>\n",
       "      <th>blood_pressure</th>\n",
       "      <th>cigs_per_day</th>\n",
       "      <th>chol</th>\n",
       "      <th>blood_pressure_stage</th>\n",
       "    </tr>\n",
       "  </thead>\n",
       "  <tbody>\n",
       "    <tr>\n",
       "      <th>0</th>\n",
       "      <td>54</td>\n",
       "      <td>male</td>\n",
       "      <td>yes</td>\n",
       "      <td>95</td>\n",
       "      <td>110/72</td>\n",
       "      <td>9.0</td>\n",
       "      <td>219</td>\n",
       "      <td>Normal</td>\n",
       "    </tr>\n",
       "    <tr>\n",
       "      <th>1</th>\n",
       "      <td>45</td>\n",
       "      <td>male</td>\n",
       "      <td>yes</td>\n",
       "      <td>64</td>\n",
       "      <td>121/72</td>\n",
       "      <td>9.0</td>\n",
       "      <td>248</td>\n",
       "      <td>Elevated</td>\n",
       "    </tr>\n",
       "    <tr>\n",
       "      <th>2</th>\n",
       "      <td>58</td>\n",
       "      <td>male</td>\n",
       "      <td>yes</td>\n",
       "      <td>81</td>\n",
       "      <td>127.5/76</td>\n",
       "      <td>9.0</td>\n",
       "      <td>235</td>\n",
       "      <td>Elevated</td>\n",
       "    </tr>\n",
       "    <tr>\n",
       "      <th>3</th>\n",
       "      <td>42</td>\n",
       "      <td>male</td>\n",
       "      <td>yes</td>\n",
       "      <td>90</td>\n",
       "      <td>122.5/80</td>\n",
       "      <td>9.0</td>\n",
       "      <td>225</td>\n",
       "      <td>Hypertension Stage 1</td>\n",
       "    </tr>\n",
       "    <tr>\n",
       "      <th>4</th>\n",
       "      <td>42</td>\n",
       "      <td>male</td>\n",
       "      <td>yes</td>\n",
       "      <td>62</td>\n",
       "      <td>119/80</td>\n",
       "      <td>9.0</td>\n",
       "      <td>226</td>\n",
       "      <td>Hypertension Stage 1</td>\n",
       "    </tr>\n",
       "  </tbody>\n",
       "</table>\n",
       "</div>"
      ],
      "text/plain": [
       "   age   sex current_smoker  heart_rate blood_pressure  cigs_per_day  chol  \\\n",
       "0   54  male            yes          95         110/72           9.0   219   \n",
       "1   45  male            yes          64         121/72           9.0   248   \n",
       "2   58  male            yes          81       127.5/76           9.0   235   \n",
       "3   42  male            yes          90       122.5/80           9.0   225   \n",
       "4   42  male            yes          62         119/80           9.0   226   \n",
       "\n",
       "   blood_pressure_stage  \n",
       "0                Normal  \n",
       "1              Elevated  \n",
       "2              Elevated  \n",
       "3  Hypertension Stage 1  \n",
       "4  Hypertension Stage 1  "
      ]
     },
     "execution_count": 7,
     "metadata": {},
     "output_type": "execute_result"
    }
   ],
   "source": [
    "df.head()\n"
   ]
  },
  {
   "cell_type": "code",
   "execution_count": 8,
   "metadata": {},
   "outputs": [
    {
     "data": {
      "text/plain": [
       "(3900, 8)"
      ]
     },
     "execution_count": 8,
     "metadata": {},
     "output_type": "execute_result"
    }
   ],
   "source": [
    "df.shape"
   ]
  },
  {
   "cell_type": "code",
   "execution_count": 9,
   "metadata": {},
   "outputs": [
    {
     "name": "stdout",
     "output_type": "stream",
     "text": [
      "age                     0\n",
      "sex                     0\n",
      "current_smoker          0\n",
      "heart_rate              0\n",
      "blood_pressure          0\n",
      "cigs_per_day            0\n",
      "chol                    0\n",
      "blood_pressure_stage    0\n",
      "dtype: int64\n"
     ]
    }
   ],
   "source": [
    "print(df.isnull().sum())"
   ]
  },
  {
   "cell_type": "code",
   "execution_count": 18,
   "metadata": {},
   "outputs": [
    {
     "name": "stdout",
     "output_type": "stream",
     "text": [
      "age                     0\n",
      "sex                     0\n",
      "current_smoker          0\n",
      "heart_rate              0\n",
      "blood_pressure          0\n",
      "cigs_per_day            0\n",
      "chol                    0\n",
      "blood_pressure_stage    0\n",
      "dtype: int64\n"
     ]
    }
   ],
   "source": [
    "print(df.isnull().sum())"
   ]
  },
  {
   "cell_type": "code",
   "execution_count": 19,
   "metadata": {},
   "outputs": [],
   "source": [
    "mode_cigars_per_day = df['cigs_per_day'].mode()[0]\n",
    "df['cigs_per_day'].fillna(mode_cigars_per_day, inplace=True)"
   ]
  },
  {
   "cell_type": "code",
   "execution_count": 20,
   "metadata": {},
   "outputs": [
    {
     "name": "stdout",
     "output_type": "stream",
     "text": [
      "age                     0\n",
      "sex                     0\n",
      "current_smoker          0\n",
      "heart_rate              0\n",
      "blood_pressure          0\n",
      "cigs_per_day            0\n",
      "chol                    0\n",
      "blood_pressure_stage    0\n",
      "dtype: int64\n"
     ]
    }
   ],
   "source": [
    "print(df.isnull().sum())"
   ]
  },
  {
   "cell_type": "code",
   "execution_count": 21,
   "metadata": {},
   "outputs": [],
   "source": [
    "df.to_csv('smoking_health_data_final.csv', index=False)"
   ]
  },
  {
   "cell_type": "code",
   "execution_count": 22,
   "metadata": {},
   "outputs": [],
   "source": [
    "df = pd.read_csv('smoking_health_data_final.csv')\n"
   ]
  },
  {
   "cell_type": "code",
   "execution_count": 23,
   "metadata": {},
   "outputs": [
    {
     "name": "stdout",
     "output_type": "stream",
     "text": [
      "age                     0\n",
      "sex                     0\n",
      "current_smoker          0\n",
      "heart_rate              0\n",
      "blood_pressure          0\n",
      "cigs_per_day            0\n",
      "chol                    0\n",
      "blood_pressure_stage    0\n",
      "dtype: int64\n"
     ]
    }
   ],
   "source": [
    "print(df.isnull().sum())"
   ]
  },
  {
   "cell_type": "code",
   "execution_count": 24,
   "metadata": {},
   "outputs": [
    {
     "data": {
      "text/plain": [
       "0"
      ]
     },
     "execution_count": 24,
     "metadata": {},
     "output_type": "execute_result"
    }
   ],
   "source": [
    "df.duplicated().sum()"
   ]
  },
  {
   "cell_type": "code",
   "execution_count": 31,
   "metadata": {},
   "outputs": [],
   "source": [
    "import matplotlib.pylab as plt"
   ]
  },
  {
   "cell_type": "code",
   "execution_count": 26,
   "metadata": {},
   "outputs": [],
   "source": [
    "cigs_groups = pd.cut(df['cigs_per_day'], bins=[0, 5, 10, 15, 20, 25])"
   ]
  },
  {
   "cell_type": "code",
   "execution_count": 27,
   "metadata": {},
   "outputs": [
    {
     "data": {
      "text/plain": [
       "(15, 20]    710\n",
       "(5, 10]     290\n",
       "(0, 5]      285\n",
       "(10, 15]    210\n",
       "(20, 25]     56\n",
       "Name: cigs_per_day, dtype: int64"
      ]
     },
     "execution_count": 27,
     "metadata": {},
     "output_type": "execute_result"
    }
   ],
   "source": [
    "cigs_groups.value_counts()"
   ]
  },
  {
   "cell_type": "code",
   "execution_count": 28,
   "metadata": {},
   "outputs": [
    {
     "data": {
      "text/plain": [
       "(0, 5]      285\n",
       "(5, 10]     290\n",
       "(10, 15]    210\n",
       "(15, 20]    710\n",
       "(20, 25]     56\n",
       "Name: cigs_per_day, dtype: int64"
      ]
     },
     "execution_count": 28,
     "metadata": {},
     "output_type": "execute_result"
    }
   ],
   "source": [
    "cigs_groups_count = cigs_groups.value_counts().sort_index()\n",
    "cigs_groups_count"
   ]
  },
  {
   "cell_type": "code",
   "execution_count": 32,
   "metadata": {},
   "outputs": [
    {
     "data": {
      "image/png": "[encoded data removed]",
      "text/plain": [
       "<Figure size 640x480 with 1 Axes>"
      ]
     },
     "metadata": {},
     "output_type": "display_data"
    }
   ],
   "source": [
    "cigs_groups_count.plot(kind = \"bar\", color='orange')\n",
    "plt.title(\"Number of cigarettes smoked per day\")\n",
    "plt.xlabel('Groups')\n",
    "plt.ylabel('Number of people')\n",
    "plt.xticks(rotation=45)\n",
    "plt.grid(axis='y', linestyle='--', alpha=0.6)\n",
    "plt.tight_layout()\n",
    "plt.show()"
   ]
  }
 ],
 "metadata": {
  "kernelspec": {
   "display_name": "base",
   "language": "python",
   "name": "python3"
  },
  "language_info": {
   "codemirror_mode": {
    "name": "ipython",
    "version": 3
   },
   "file_extension": ".py",
   "mimetype": "text/x-python",
   "name": "python",
   "nbconvert_exporter": "python",
   "pygments_lexer": "ipython3",
   "version": "3.11.4"
  }
 },
 "nbformat": 4,
 "nbformat_minor": 2
}
